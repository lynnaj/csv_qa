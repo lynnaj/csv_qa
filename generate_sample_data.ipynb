{
 "cells": [
  {
   "cell_type": "code",
   "execution_count": 5,
   "id": "1936da01-29f6-4bb0-b04b-6b8e60b8f79a",
   "metadata": {},
   "outputs": [],
   "source": [
    "import random\n",
    "import datetime\n",
    "import pandas as pd\n",
    "import numpy as np\n",
    "\n",
    "def random_date(start_date, end_date):\n",
    "    time_between_dates = end_date - start_date\n",
    "    days_between_dates = time_between_dates.days\n",
    "    random_number_of_days = random.randrange(days_between_dates)\n",
    "    random_date = start_date + datetime.timedelta(days=random_number_of_days)\n",
    "    return random_date\n",
    "\n",
    "def create_random_date_list(start_date, end_date, list_length):\n",
    "    random_dates = []\n",
    "    for _ in range(list_length):\n",
    "        random_dates.append(random_date(start_date, end_date))\n",
    "    return random_dates\n",
    "\n",
    "start_date = datetime.date(2024, 12, 1)\n",
    "end_date = datetime.date(2025, 3, 1)\n",
    "list_length = 200"
   ]
  },
  {
   "cell_type": "code",
   "execution_count": 6,
   "id": "cb1b5643-f9f2-4bd1-a5cf-8e49a2a32da4",
   "metadata": {},
   "outputs": [],
   "source": [
    "service_options = ['EC2', 'VPC', 'SageMaker', 'Bedrock', 'S3', 'RedShift']\n",
    "region_options = ['east', 'west', 'global']\n",
    "\n",
    "services = np.random.choice(service_options, 200, replace=True)\n",
    "regions = np.random.choice(region_options, 200, replace=True)\n",
    "costs = [random.uniform(0.5, 70) for _ in range(200)]\n",
    "\n",
    "dates = create_random_date_list(start_date, end_date, list_length)\n"
   ]
  },
  {
   "cell_type": "code",
   "execution_count": 7,
   "id": "c5bc230d-1875-4e10-8805-6483c1d09e16",
   "metadata": {},
   "outputs": [
    {
     "name": "stdout",
     "output_type": "stream",
     "text": [
      "      Services Regions      Costs       Dates\n",
      "0     RedShift  global  26.024175  2024-12-27\n",
      "1     RedShift    west  48.582640  2024-12-07\n",
      "2           S3    east  29.616186  2025-02-02\n",
      "3     RedShift  global  51.251502  2025-02-23\n",
      "4    SageMaker    east  48.601562  2024-12-16\n",
      "..         ...     ...        ...         ...\n",
      "195        EC2  global  41.031836  2025-01-24\n",
      "196   RedShift    east  39.365161  2024-12-08\n",
      "197        EC2    east  65.468322  2024-12-04\n",
      "198         S3    west  22.487493  2025-01-18\n",
      "199  SageMaker    west  68.124849  2025-01-06\n",
      "\n",
      "[200 rows x 4 columns]\n"
     ]
    }
   ],
   "source": [
    "data = {'Services': services, \n",
    "        'Regions': regions,\n",
    "        'Costs': costs,\n",
    "        'Dates': dates}\n",
    "df = pd.DataFrame(data)\n",
    "\n",
    "# Print the DataFrame\n",
    "print(df)"
   ]
  },
  {
   "cell_type": "code",
   "execution_count": 8,
   "id": "c156bf36-0861-45e5-8a27-608effc5a0e6",
   "metadata": {},
   "outputs": [],
   "source": [
    "df.to_csv(\"AWSUsage.csv\")"
   ]
  },
  {
   "cell_type": "code",
   "execution_count": null,
   "id": "169ac1dd-ca15-453d-b1b1-dec129bf1bfe",
   "metadata": {},
   "outputs": [],
   "source": []
  }
 ],
 "metadata": {
  "kernelspec": {
   "display_name": "Python 3 (ipykernel)",
   "language": "python",
   "name": "python3"
  },
  "language_info": {
   "codemirror_mode": {
    "name": "ipython",
    "version": 3
   },
   "file_extension": ".py",
   "mimetype": "text/x-python",
   "name": "python",
   "nbconvert_exporter": "python",
   "pygments_lexer": "ipython3",
   "version": "3.12.9"
  }
 },
 "nbformat": 4,
 "nbformat_minor": 5
}
