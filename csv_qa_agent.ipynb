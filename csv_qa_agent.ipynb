{
 "cells": [
  {
   "cell_type": "code",
   "execution_count": 1,
   "id": "da8c8d70-38da-4d8a-9c61-e001452ea9eb",
   "metadata": {},
   "outputs": [
    {
     "name": "stdout",
     "output_type": "stream",
     "text": [
      "\n",
      "Usage:   \n",
      "  pip uninstall [options] <package> ...\n",
      "  pip uninstall [options] -r <requirements file> ...\n",
      "\n",
      "no such option: -Y\n"
     ]
    }
   ],
   "source": [
    "!pip uninstall langchain -Y\n",
    "!pip install -q langchain==0.3.22 langchain-aws==0.2.18 langchain-community==0.3.20 langchain-core==0.3.49 langchain-experimental==0.3.4 langgraph"
   ]
  },
  {
   "cell_type": "code",
   "execution_count": 2,
   "id": "64e3654d-b656-4d1a-a239-d8070d0ecdbc",
   "metadata": {},
   "outputs": [
    {
     "name": "stdout",
     "output_type": "stream",
     "text": [
      "Python 3.12.9\n"
     ]
    }
   ],
   "source": [
    "!python --version"
   ]
  },
  {
   "cell_type": "code",
   "execution_count": 3,
   "id": "8e1b9120-0341-4a82-96bc-d9b3ca757c61",
   "metadata": {},
   "outputs": [],
   "source": [
    "from langchain.chat_models import init_chat_model\n",
    "import pydantic\n",
    "\n",
    "\n",
    "# Initialize BedrockChat model\n",
    "llm = init_chat_model(\n",
    "    \"amazon.nova-pro-v1:0\",\n",
    "    model_provider=\"bedrock\",\n",
    "    model_kwargs={'temperature': 0.7}\n",
    ")\n"
   ]
  },
  {
   "cell_type": "code",
   "execution_count": 4,
   "id": "276156d7-6693-4be3-9f2b-7ef9e9bf04c6",
   "metadata": {},
   "outputs": [
    {
     "data": {
      "text/plain": [
       "2.1642921072041164"
      ]
     },
     "execution_count": 4,
     "metadata": {},
     "output_type": "execute_result"
    }
   ],
   "source": [
    "import pandas as pd\n",
    "from langchain_core.prompts import ChatPromptTemplate\n",
    "from langchain_experimental.tools import PythonAstREPLTool\n",
    "\n",
    "df_azure = pd.read_csv(\"AzureUsage.csv\")\n",
    "df_aws = pd.read_csv(\"AWSUsage.csv\")\n",
    "\n",
    "tool = PythonAstREPLTool(locals={\"df_azure\": df_azure})\n",
    "tool.invoke(\"df_azure['Cost'].mean()\")"
   ]
  },
  {
   "cell_type": "code",
   "execution_count": 5,
   "id": "1370864b-5491-4c0b-80da-07fbf6302129",
   "metadata": {},
   "outputs": [
    {
     "data": {
      "text/html": [
       "<div>\n",
       "<style scoped>\n",
       "    .dataframe tbody tr th:only-of-type {\n",
       "        vertical-align: middle;\n",
       "    }\n",
       "\n",
       "    .dataframe tbody tr th {\n",
       "        vertical-align: top;\n",
       "    }\n",
       "\n",
       "    .dataframe thead th {\n",
       "        text-align: right;\n",
       "    }\n",
       "</style>\n",
       "<table border=\"1\" class=\"dataframe\">\n",
       "  <thead>\n",
       "    <tr style=\"text-align: right;\">\n",
       "      <th></th>\n",
       "      <th>SubscriptionName</th>\n",
       "      <th>SubscriptionGuid</th>\n",
       "      <th>Date</th>\n",
       "      <th>ResourceGuid</th>\n",
       "      <th>ServiceName</th>\n",
       "      <th>ServiceType</th>\n",
       "      <th>ServiceRegion</th>\n",
       "      <th>ServiceResource</th>\n",
       "      <th>Quantity</th>\n",
       "      <th>Cost</th>\n",
       "    </tr>\n",
       "  </thead>\n",
       "  <tbody>\n",
       "    <tr>\n",
       "      <th>0</th>\n",
       "      <td>BISTEC Care Azure Sponsorship 002</td>\n",
       "      <td>1d3baa58-d65d-4735-a333-dd5f4aa49125</td>\n",
       "      <td>3/30/2025</td>\n",
       "      <td>ce912ed9-61fb-4d64-ad8d-13018897497f</td>\n",
       "      <td>Storage</td>\n",
       "      <td>Tiered Block Blob</td>\n",
       "      <td>US West</td>\n",
       "      <td>LRS List and Create Container Operations</td>\n",
       "      <td>0.000100</td>\n",
       "      <td>0.000006</td>\n",
       "    </tr>\n",
       "    <tr>\n",
       "      <th>1</th>\n",
       "      <td>BISTEC Care Azure Sponsorship 002</td>\n",
       "      <td>1d3baa58-d65d-4735-a333-dd5f4aa49125</td>\n",
       "      <td>3/30/2025</td>\n",
       "      <td>32c3ebec-1646-49e3-8127-2cafbd3a04d8</td>\n",
       "      <td>Bandwidth</td>\n",
       "      <td>Rtn Preference: MGN</td>\n",
       "      <td>All</td>\n",
       "      <td>Standard Data Transfer In</td>\n",
       "      <td>0.000002</td>\n",
       "      <td>0.000000</td>\n",
       "    </tr>\n",
       "    <tr>\n",
       "      <th>2</th>\n",
       "      <td>BISTEC Care Azure Sponsorship 002</td>\n",
       "      <td>1d3baa58-d65d-4735-a333-dd5f4aa49125</td>\n",
       "      <td>11/22/2024</td>\n",
       "      <td>9cb72649-e2e7-54db-a00f-2f543e351e6b</td>\n",
       "      <td>Dataverse</td>\n",
       "      <td>All</td>\n",
       "      <td>Global</td>\n",
       "      <td>Database Capacity Data Stored</td>\n",
       "      <td>0.015001</td>\n",
       "      <td>0.720053</td>\n",
       "    </tr>\n",
       "    <tr>\n",
       "      <th>3</th>\n",
       "      <td>BISTEC Care Azure Sponsorship 002</td>\n",
       "      <td>1d3baa58-d65d-4735-a333-dd5f4aa49125</td>\n",
       "      <td>11/23/2024</td>\n",
       "      <td>9cb72649-e2e7-54db-a00f-2f543e351e6b</td>\n",
       "      <td>Dataverse</td>\n",
       "      <td>All</td>\n",
       "      <td>Global</td>\n",
       "      <td>Database Capacity Data Stored</td>\n",
       "      <td>0.004610</td>\n",
       "      <td>0.221303</td>\n",
       "    </tr>\n",
       "    <tr>\n",
       "      <th>4</th>\n",
       "      <td>BISTEC Care Azure Sponsorship 002</td>\n",
       "      <td>1d3baa58-d65d-4735-a333-dd5f4aa49125</td>\n",
       "      <td>11/24/2024</td>\n",
       "      <td>9cb72649-e2e7-54db-a00f-2f543e351e6b</td>\n",
       "      <td>Dataverse</td>\n",
       "      <td>All</td>\n",
       "      <td>Global</td>\n",
       "      <td>Database Capacity Data Stored</td>\n",
       "      <td>0.015284</td>\n",
       "      <td>0.733604</td>\n",
       "    </tr>\n",
       "  </tbody>\n",
       "</table>\n",
       "</div>"
      ],
      "text/plain": [
       "                    SubscriptionName                      SubscriptionGuid  \\\n",
       "0  BISTEC Care Azure Sponsorship 002  1d3baa58-d65d-4735-a333-dd5f4aa49125   \n",
       "1  BISTEC Care Azure Sponsorship 002  1d3baa58-d65d-4735-a333-dd5f4aa49125   \n",
       "2  BISTEC Care Azure Sponsorship 002  1d3baa58-d65d-4735-a333-dd5f4aa49125   \n",
       "3  BISTEC Care Azure Sponsorship 002  1d3baa58-d65d-4735-a333-dd5f4aa49125   \n",
       "4  BISTEC Care Azure Sponsorship 002  1d3baa58-d65d-4735-a333-dd5f4aa49125   \n",
       "\n",
       "         Date                          ResourceGuid ServiceName  \\\n",
       "0   3/30/2025  ce912ed9-61fb-4d64-ad8d-13018897497f     Storage   \n",
       "1   3/30/2025  32c3ebec-1646-49e3-8127-2cafbd3a04d8   Bandwidth   \n",
       "2  11/22/2024  9cb72649-e2e7-54db-a00f-2f543e351e6b   Dataverse   \n",
       "3  11/23/2024  9cb72649-e2e7-54db-a00f-2f543e351e6b   Dataverse   \n",
       "4  11/24/2024  9cb72649-e2e7-54db-a00f-2f543e351e6b   Dataverse   \n",
       "\n",
       "           ServiceType ServiceRegion  \\\n",
       "0    Tiered Block Blob       US West   \n",
       "1  Rtn Preference: MGN           All   \n",
       "2                  All        Global   \n",
       "3                  All        Global   \n",
       "4                  All        Global   \n",
       "\n",
       "                            ServiceResource  Quantity      Cost  \n",
       "0  LRS List and Create Container Operations  0.000100  0.000006  \n",
       "1                 Standard Data Transfer In  0.000002  0.000000  \n",
       "2             Database Capacity Data Stored  0.015001  0.720053  \n",
       "3             Database Capacity Data Stored  0.004610  0.221303  \n",
       "4             Database Capacity Data Stored  0.015284  0.733604  "
      ]
     },
     "execution_count": 5,
     "metadata": {},
     "output_type": "execute_result"
    }
   ],
   "source": [
    "df_azure.head()"
   ]
  },
  {
   "cell_type": "code",
   "execution_count": 6,
   "id": "53dc11ee-adf1-4939-a3b8-f5d03c25db34",
   "metadata": {},
   "outputs": [
    {
     "data": {
      "text/html": [
       "<div>\n",
       "<style scoped>\n",
       "    .dataframe tbody tr th:only-of-type {\n",
       "        vertical-align: middle;\n",
       "    }\n",
       "\n",
       "    .dataframe tbody tr th {\n",
       "        vertical-align: top;\n",
       "    }\n",
       "\n",
       "    .dataframe thead th {\n",
       "        text-align: right;\n",
       "    }\n",
       "</style>\n",
       "<table border=\"1\" class=\"dataframe\">\n",
       "  <thead>\n",
       "    <tr style=\"text-align: right;\">\n",
       "      <th></th>\n",
       "      <th>Unnamed: 0</th>\n",
       "      <th>Services</th>\n",
       "      <th>Regions</th>\n",
       "      <th>Costs</th>\n",
       "      <th>Dates</th>\n",
       "    </tr>\n",
       "  </thead>\n",
       "  <tbody>\n",
       "    <tr>\n",
       "      <th>0</th>\n",
       "      <td>0</td>\n",
       "      <td>RedShift</td>\n",
       "      <td>global</td>\n",
       "      <td>26.024175</td>\n",
       "      <td>2024-12-27</td>\n",
       "    </tr>\n",
       "    <tr>\n",
       "      <th>1</th>\n",
       "      <td>1</td>\n",
       "      <td>RedShift</td>\n",
       "      <td>west</td>\n",
       "      <td>48.582640</td>\n",
       "      <td>2024-12-07</td>\n",
       "    </tr>\n",
       "    <tr>\n",
       "      <th>2</th>\n",
       "      <td>2</td>\n",
       "      <td>S3</td>\n",
       "      <td>east</td>\n",
       "      <td>29.616186</td>\n",
       "      <td>2025-02-02</td>\n",
       "    </tr>\n",
       "    <tr>\n",
       "      <th>3</th>\n",
       "      <td>3</td>\n",
       "      <td>RedShift</td>\n",
       "      <td>global</td>\n",
       "      <td>51.251502</td>\n",
       "      <td>2025-02-23</td>\n",
       "    </tr>\n",
       "    <tr>\n",
       "      <th>4</th>\n",
       "      <td>4</td>\n",
       "      <td>SageMaker</td>\n",
       "      <td>east</td>\n",
       "      <td>48.601562</td>\n",
       "      <td>2024-12-16</td>\n",
       "    </tr>\n",
       "  </tbody>\n",
       "</table>\n",
       "</div>"
      ],
      "text/plain": [
       "   Unnamed: 0   Services Regions      Costs       Dates\n",
       "0           0   RedShift  global  26.024175  2024-12-27\n",
       "1           1   RedShift    west  48.582640  2024-12-07\n",
       "2           2         S3    east  29.616186  2025-02-02\n",
       "3           3   RedShift  global  51.251502  2025-02-23\n",
       "4           4  SageMaker    east  48.601562  2024-12-16"
      ]
     },
     "execution_count": 6,
     "metadata": {},
     "output_type": "execute_result"
    }
   ],
   "source": [
    "df_aws.head()"
   ]
  },
  {
   "cell_type": "code",
   "execution_count": 7,
   "id": "e5cf4135-8fb3-4f85-bbf4-6552d506bf7a",
   "metadata": {},
   "outputs": [
    {
     "data": {
      "text/plain": [
       "{'query': \"import pandas as pd\\n\\n# Assuming the dataframe is named 'df' and has columns 'service_region' and 'cost'\\ndf = pd.DataFrame({\\n    'service_region': ['East US', 'West US', 'East US', 'West US', 'East US'],\\n    'cost': [100, 200, 150, 250, 300]\\n})\\n\\n# Group by 'service_region' and sum the 'cost'\\ncost_by_region = df.groupby('service_region')['cost'].sum()\\ncost_by_region\"}"
      ]
     },
     "execution_count": 7,
     "metadata": {},
     "output_type": "execute_result"
    }
   ],
   "source": [
    "from langchain_core.output_parsers.openai_tools import JsonOutputKeyToolsParser\n",
    "llm_with_tools = llm.bind_tools([tool], tool_choice=tool.name)\n",
    "parser = JsonOutputKeyToolsParser(key_name=tool.name, first_tool_only=True)\n",
    "(llm_with_tools | parser).invoke(\n",
    "    \"I have a dataframe about Azure cloud usage and want to know the cost for each service region\"\n",
    ")"
   ]
  },
  {
   "cell_type": "code",
   "execution_count": 9,
   "id": "7615e652-2e29-4670-85b7-692e972c8803",
   "metadata": {},
   "outputs": [
    {
     "data": {
      "text/plain": [
       "Services\n",
       "RedShift     41.952767\n",
       "S3           29.616200\n",
       "SageMaker    48.601600\n",
       "Name: Costs, dtype: float64"
      ]
     },
     "execution_count": 9,
     "metadata": {},
     "output_type": "execute_result"
    }
   ],
   "source": [
    "\n",
    "tool = PythonAstREPLTool(locals={\"df_aws\": df_aws, \"df_azure\": df_azure})\n",
    "llm_with_tool = llm.bind_tools(tools=[tool], tool_choice=tool.name)\n",
    "df_template = \"\"\"\\`\\`\\`python\n",
    "{df_name}.head().to_markdown()\n",
    ">>> {df_head}\n",
    "\\`\\`\\`\"\"\"\n",
    "df_context = \"\\n\\n\".join(\n",
    "    df_template.format(df_head=_df.head().to_markdown(), df_name=df_name)\n",
    "    for _df, df_name in [(df_aws, \"df_aws\"), (df_azure, \"df_azure\")]\n",
    ")\n",
    "\n",
    "system = f\"\"\"You have access to two pandas dataframes. \\\n",
    "Here is a sample of rows from each dataframe and the python code that was used to generate the sample:\n",
    "\n",
    "{df_context}\n",
    "\n",
    "Given a user question about the dataframes, write the Python code to answer it. \\\n",
    "Don't assume you have access to any libraries other than built-in Python ones and pandas. \\\n",
    "Make sure to refer only to the variables mentioned above.\"\"\"\n",
    "prompt = ChatPromptTemplate.from_messages([(\"system\", system), (\"human\", \"{question}\")])\n",
    "\n",
    "chain = prompt | llm_with_tool | parser | tool\n",
    "chain.invoke(\n",
    "    {\n",
    "        \"question\": \"What is the average cost of each of the AWS Services?\"\n",
    "    }\n",
    ")"
   ]
  },
  {
   "cell_type": "code",
   "execution_count": 11,
   "id": "ec6b1461-5c30-4776-abbf-a7b48eeeb103",
   "metadata": {},
   "outputs": [
    {
     "data": {
      "image/png": "[encoded data removed]",
      "text/plain": [
       "<Figure size 640x480 with 1 Axes>"
      ]
     },
     "metadata": {},
     "output_type": "display_data"
    },
    {
     "data": {
      "text/plain": [
       "''"
      ]
     },
     "execution_count": 11,
     "metadata": {},
     "output_type": "execute_result"
    }
   ],
   "source": [
    "chain.invoke(\n",
    "    {\n",
    "        \"question\": \"Show a stacked barcharts for costs of each AWS service month on month\"\n",
    "    }\n",
    ")"
   ]
  },
  {
   "cell_type": "code",
   "execution_count": null,
   "id": "0b157a81-2a9d-4977-b51d-574f2f59b60d",
   "metadata": {},
   "outputs": [],
   "source": []
  }
 ],
 "metadata": {
  "kernelspec": {
   "display_name": "Python 3 (ipykernel)",
   "language": "python",
   "name": "python3"
  },
  "language_info": {
   "codemirror_mode": {
    "name": "ipython",
    "version": 3
   },
   "file_extension": ".py",
   "mimetype": "text/x-python",
   "name": "python",
   "nbconvert_exporter": "python",
   "pygments_lexer": "ipython3",
   "version": "3.12.9"
  }
 },
 "nbformat": 4,
 "nbformat_minor": 5
}
